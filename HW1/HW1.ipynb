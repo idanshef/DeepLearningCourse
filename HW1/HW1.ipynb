{
  "nbformat": 4,
  "nbformat_minor": 0,
  "metadata": {
    "colab": {
      "name": "HW1.ipynb",
      "provenance": [],
      "collapsed_sections": []
    },
    "kernelspec": {
      "name": "python3",
      "display_name": "Python 3"
    },
    "accelerator": "GPU"
  },
  "cells": [
    {
      "cell_type": "code",
      "metadata": {
        "id": "kgRWSLY1cSpU",
        "outputId": "72aadaa4-0406-4b86-9c5b-ce1600c3e527",
        "colab": {
          "base_uri": "https://localhost:8080/"
        }
      },
      "source": [
        "import torch\n",
        "from torch import nn\n",
        "from tqdm import tqdm\n",
        "from torchvision.datasets.mnist import FashionMNIST\n",
        "from torchvision import transforms\n",
        "import matplotlib.pyplot as plt\n",
        "\n",
        "print(\"Using Device: \", torch.cuda.get_device_name())"
      ],
      "execution_count": 14,
      "outputs": [
        {
          "output_type": "stream",
          "text": [
            "Using Device:  Tesla T4\n"
          ],
          "name": "stdout"
        }
      ]
    },
    {
      "cell_type": "code",
      "metadata": {
        "id": "qyJtrYpZdVl3"
      },
      "source": [
        "def create_datasets(data_root):\n",
        "    trainset = FashionMNIST(root = data_root, train = True, download = True, transform = transforms.ToTensor())\n",
        "    testset = FashionMNIST(root = data_root, train = False, download = True, transform = transforms.ToTensor())\n",
        "    return trainset, testset\n",
        "\n",
        "trainset, testset = create_datasets(\"./data\")\n",
        "train_loader = torch.utils.data.DataLoader(trainset, batch_size=64, shuffle=True, num_workers=4)\n",
        "test_loader = torch.utils.data.DataLoader(testset, batch_size=64, num_workers=4)"
      ],
      "execution_count": 15,
      "outputs": []
    },
    {
      "cell_type": "code",
      "metadata": {
        "id": "3cBdJAx1eEB6"
      },
      "source": [
        "class ConvBlock(torch.nn.Module):\n",
        "    def __init__(self, in_channels, out_channels, kernel_size, stride, padding=0):\n",
        "        super().__init__()\n",
        "        self.conv_block = nn.Sequential(\n",
        "            nn.Conv2d(in_channels, out_channels, kernel_size=kernel_size, stride=stride, padding=padding),\n",
        "            nn.Tanh()\n",
        "        )\n",
        "\n",
        "    def forward(self, x):\n",
        "        return self.conv_block(x)\n",
        "\n",
        "\n",
        "class PoolingBlock(torch.nn.Module):\n",
        "    def __init__(self, kernel_size, stride):\n",
        "        super().__init__()\n",
        "        self.pooling_block = nn.AvgPool2d(kernel_size=kernel_size, stride=stride)\n",
        "\n",
        "    def forward(self, x):\n",
        "        return self.pooling_block(x)\n",
        "\n",
        "class LeNet5(torch.nn.Module):\n",
        "    def __init__(self, n_channels=1):\n",
        "        super().__init__()\n",
        "        self.n_channels = n_channels\n",
        "\n",
        "        self.conv1 = ConvBlock(in_channels=n_channels, out_channels=6, kernel_size=5, stride=1, padding=2)\n",
        "        self.pooling1 = PoolingBlock(kernel_size=2, stride=2)\n",
        "        self.conv2 = ConvBlock(in_channels=6, out_channels=16, kernel_size=5, stride=1)\n",
        "        self.pooling2 = PoolingBlock(kernel_size=2, stride=2)\n",
        "        self.conv3 = ConvBlock(in_channels=16, out_channels=120, kernel_size=5, stride=1)\n",
        "        self.activation = nn.Tanh()\n",
        "        self.fc1 = nn.Linear(in_features=120, out_features=84)\n",
        "        self.fc2 = nn.Linear(in_features=84, out_features=10)\n",
        "        # self.dropout = nn.Dropout(p=0.5, inplace=True)\n",
        "        self.softmax = nn.Softmax()\n",
        "        # self.batch_norm = nn.BatchNorm1d()\n",
        "        # self.batch_norm = nn.BatchNorm2d(num_features=)\n",
        "\n",
        "    def forward(self, x):\n",
        "        x = self.conv1(x)\n",
        "        x = self.pooling1(x)\n",
        "        x = self.conv2(x)\n",
        "        x = self.pooling2(x)\n",
        "        x = self.conv3(x)\n",
        "        x = torch.flatten(x, start_dim=1)\n",
        "        x = self.fc1(x)\n",
        "        x = self.activation(x)\n",
        "        x = self.fc2(x)\n",
        "        # x = self.dropout(x)\n",
        "        return self.softmax(x)  # numerically it is better to output raw logits and use the BCEwithLogitsLoss\n",
        "\n",
        "class LeNet(nn.Module):\n",
        "    def init(self):\n",
        "        super(LeNet, self).init()\n",
        "        self.cnn_model = nn.Sequential(\n",
        "            nn.Conv2d(3, 6, kernel_size = 5), #(N, 1, 28, 28) -> (N, 6, 24, 24)\n",
        "            nn.Tanh(),\n",
        "            nn.AvgPool2d(2, stride = 2), #(N, 6, 24, 24) -> (N, 6, 12, 12)\n",
        "            nn.Conv2d(6, 16, kernel_size = 5), #(N, 6, 12, 12) -> (N, 6, 8, 8)\n",
        "            nn.Tanh(),\n",
        "            nn.AvgPool2d(2, stride = 2)) #(N, 6, 8, 8) -> (N, 16, 4, 4)\n",
        "        self.fc_model = nn.Sequential(\n",
        "            nn.Linear(256, 120), # (N, 256) -> (N, 120)\n",
        "            nn.Tanh(),\n",
        "            nn.Linear(120, 84), # (N, 120) -> (N, 84)\n",
        "            nn.Tanh(),\n",
        "            nn.Linear(84, 10))  # (N, 84)  -> (N, 10)) #10 classes\n",
        "    def forward(self, x):     \n",
        "        x = self.cnn_model(x)     \n",
        "        x = x.view(x.size(0), -1)     \n",
        "        x = self.fc_model(x)     \n",
        "        return x\n",
        "\n",
        "device = torch.device('cuda' if torch.cuda.is_available() else 'cpu')\n",
        "# net = LeNet5().to(device)\n",
        "net = LeNet().to(device)"
      ],
      "execution_count": 37,
      "outputs": []
    },
    {
      "cell_type": "code",
      "metadata": {
        "id": "KbglKnVUgv77"
      },
      "source": [
        "def train_epoch(net, dataloader, loss_func, optimizer):\n",
        "    net.train()\n",
        "    total_batches = len(dataloader)\n",
        "    all_losses = []\n",
        "    with tqdm(total=total_batches) as pbar:\n",
        "        for batch in dataloader:\n",
        "            optimizer.zero_grad()\n",
        "\n",
        "            images, labels = batch\n",
        "            images, labels = images.to(device, dtype=torch.float), labels.to(device, dtype=torch.long)\n",
        "            \n",
        "            est_labels = net(images)\n",
        "            loss = loss_func(est_labels, labels)\n",
        "            loss.backward()\n",
        "            optimizer.step()\n",
        "            all_losses.append(loss.item())\n",
        "\n",
        "            pbar.update(1)\n",
        "    return all_losses\n",
        "\n",
        "def compute_accuracy(est_labels, labels):\n",
        "    correct_pred = torch.sum(est_labels == labels)\n",
        "    total = labels.shape[0]\n",
        "    return correct_pred / total\n",
        "\n",
        "def eval(net, dataloader, loss_func):\n",
        "    net.eval()\n",
        "    total_batches = len(dataloader)\n",
        "    all_losses = []\n",
        "    all_acc = []\n",
        "    with torch.no_grad():\n",
        "        with tqdm(total=total_batches) as pbar:\n",
        "            for batch in dataloader:\n",
        "                images, labels = batch\n",
        "                images, labels = images.to(device, dtype=torch.float), labels.to(device, dtype=torch.long)\n",
        "            \n",
        "                est_labels = net(images)\n",
        "                all_losses.append(loss_func(est_labels, labels).item())\n",
        "                all_acc.append(compute_accuracy(torch.argmax(est_labels, dim=1), labels))\n",
        "\n",
        "                pbar.update(1)\n",
        "\n",
        "    return all_losses, all_acc\n",
        "\n",
        "def train(net, train_loader, val_loader, num_epochs, loss_func, optimizer):\n",
        "    all_train_losses = []\n",
        "    all_val_losses = []\n",
        "    all_val_acc = []\n",
        "    for epoch in range(num_epochs):\n",
        "        print(\"Training Epoch %d / %d\" % (epoch, num_epochs))\n",
        "        train_losses = train_epoch(net, train_loader, loss_func, optimizer)\n",
        "        print(\"Epoch %d train loss: %f\" % (epoch, sum(train_losses) / len(train_losses)))\n",
        "        all_train_losses.append(train_losses)\n",
        "        val_losses, val_acc = eval(net, val_loader, loss_func)\n",
        "        print(\"Epoch %d val loss: %f\" % (epoch, sum(val_losses) / len(val_losses)))\n",
        "        print(\"Epoch %d val acc: %f\" % (epoch, sum(val_acc) / len(val_acc)))\n",
        "        all_val_losses.append(val_losses)\n",
        "        all_val_acc.append(val_acc)\n",
        "        \n",
        "    return all_train_losses, all_val_losses, all_val_acc\n",
        "        \n"
      ],
      "execution_count": 38,
      "outputs": []
    },
    {
      "cell_type": "code",
      "metadata": {
        "id": "YIVbkwf1e6_a",
        "outputId": "07b4eefa-b5f2-4916-d6d8-1818bb997ad4",
        "colab": {
          "base_uri": "https://localhost:8080/",
          "height": 476
        }
      },
      "source": [
        "optimizer = torch.optim.SGD(net.parameters(), lr=0.01)\n",
        "loss_func = torch.nn.CrossEntropyLoss()\n",
        "num_epochs = 10\n",
        "all_train_losses, all_val_losses, all_val_acc = train(net, train_loader, test_loader, num_epochs, loss_func, optimizer)"
      ],
      "execution_count": 39,
      "outputs": [
        {
          "output_type": "error",
          "ename": "ValueError",
          "evalue": "ignored",
          "traceback": [
            "\u001b[0;31m---------------------------------------------------------------------------\u001b[0m",
            "\u001b[0;31mValueError\u001b[0m                                Traceback (most recent call last)",
            "\u001b[0;32m<ipython-input-39-d9d301854309>\u001b[0m in \u001b[0;36m<module>\u001b[0;34m()\u001b[0m\n\u001b[0;32m----> 1\u001b[0;31m \u001b[0moptimizer\u001b[0m \u001b[0;34m=\u001b[0m \u001b[0mtorch\u001b[0m\u001b[0;34m.\u001b[0m\u001b[0moptim\u001b[0m\u001b[0;34m.\u001b[0m\u001b[0mSGD\u001b[0m\u001b[0;34m(\u001b[0m\u001b[0mnet\u001b[0m\u001b[0;34m.\u001b[0m\u001b[0mparameters\u001b[0m\u001b[0;34m(\u001b[0m\u001b[0;34m)\u001b[0m\u001b[0;34m,\u001b[0m \u001b[0mlr\u001b[0m\u001b[0;34m=\u001b[0m\u001b[0;36m0.01\u001b[0m\u001b[0;34m)\u001b[0m\u001b[0;34m\u001b[0m\u001b[0;34m\u001b[0m\u001b[0m\n\u001b[0m\u001b[1;32m      2\u001b[0m \u001b[0mloss_func\u001b[0m \u001b[0;34m=\u001b[0m \u001b[0mtorch\u001b[0m\u001b[0;34m.\u001b[0m\u001b[0mnn\u001b[0m\u001b[0;34m.\u001b[0m\u001b[0mCrossEntropyLoss\u001b[0m\u001b[0;34m(\u001b[0m\u001b[0;34m)\u001b[0m\u001b[0;34m\u001b[0m\u001b[0;34m\u001b[0m\u001b[0m\n\u001b[1;32m      3\u001b[0m \u001b[0mnum_epochs\u001b[0m \u001b[0;34m=\u001b[0m \u001b[0;36m10\u001b[0m\u001b[0;34m\u001b[0m\u001b[0;34m\u001b[0m\u001b[0m\n\u001b[1;32m      4\u001b[0m \u001b[0mall_train_losses\u001b[0m\u001b[0;34m,\u001b[0m \u001b[0mall_val_losses\u001b[0m\u001b[0;34m,\u001b[0m \u001b[0mall_val_acc\u001b[0m \u001b[0;34m=\u001b[0m \u001b[0mtrain\u001b[0m\u001b[0;34m(\u001b[0m\u001b[0mnet\u001b[0m\u001b[0;34m,\u001b[0m \u001b[0mtrain_loader\u001b[0m\u001b[0;34m,\u001b[0m \u001b[0mtest_loader\u001b[0m\u001b[0;34m,\u001b[0m \u001b[0mnum_epochs\u001b[0m\u001b[0;34m,\u001b[0m \u001b[0mloss_func\u001b[0m\u001b[0;34m,\u001b[0m \u001b[0moptimizer\u001b[0m\u001b[0;34m)\u001b[0m\u001b[0;34m\u001b[0m\u001b[0;34m\u001b[0m\u001b[0m\n",
            "\u001b[0;32m/usr/local/lib/python3.6/dist-packages/torch/optim/sgd.py\u001b[0m in \u001b[0;36m__init__\u001b[0;34m(self, params, lr, momentum, dampening, weight_decay, nesterov)\u001b[0m\n\u001b[1;32m     66\u001b[0m         \u001b[0;32mif\u001b[0m \u001b[0mnesterov\u001b[0m \u001b[0;32mand\u001b[0m \u001b[0;34m(\u001b[0m\u001b[0mmomentum\u001b[0m \u001b[0;34m<=\u001b[0m \u001b[0;36m0\u001b[0m \u001b[0;32mor\u001b[0m \u001b[0mdampening\u001b[0m \u001b[0;34m!=\u001b[0m \u001b[0;36m0\u001b[0m\u001b[0;34m)\u001b[0m\u001b[0;34m:\u001b[0m\u001b[0;34m\u001b[0m\u001b[0;34m\u001b[0m\u001b[0m\n\u001b[1;32m     67\u001b[0m             \u001b[0;32mraise\u001b[0m \u001b[0mValueError\u001b[0m\u001b[0;34m(\u001b[0m\u001b[0;34m\"Nesterov momentum requires a momentum and zero dampening\"\u001b[0m\u001b[0;34m)\u001b[0m\u001b[0;34m\u001b[0m\u001b[0;34m\u001b[0m\u001b[0m\n\u001b[0;32m---> 68\u001b[0;31m         \u001b[0msuper\u001b[0m\u001b[0;34m(\u001b[0m\u001b[0mSGD\u001b[0m\u001b[0;34m,\u001b[0m \u001b[0mself\u001b[0m\u001b[0;34m)\u001b[0m\u001b[0;34m.\u001b[0m\u001b[0m__init__\u001b[0m\u001b[0;34m(\u001b[0m\u001b[0mparams\u001b[0m\u001b[0;34m,\u001b[0m \u001b[0mdefaults\u001b[0m\u001b[0;34m)\u001b[0m\u001b[0;34m\u001b[0m\u001b[0;34m\u001b[0m\u001b[0m\n\u001b[0m\u001b[1;32m     69\u001b[0m \u001b[0;34m\u001b[0m\u001b[0m\n\u001b[1;32m     70\u001b[0m     \u001b[0;32mdef\u001b[0m \u001b[0m__setstate__\u001b[0m\u001b[0;34m(\u001b[0m\u001b[0mself\u001b[0m\u001b[0;34m,\u001b[0m \u001b[0mstate\u001b[0m\u001b[0;34m)\u001b[0m\u001b[0;34m:\u001b[0m\u001b[0;34m\u001b[0m\u001b[0;34m\u001b[0m\u001b[0m\n",
            "\u001b[0;32m/usr/local/lib/python3.6/dist-packages/torch/optim/optimizer.py\u001b[0m in \u001b[0;36m__init__\u001b[0;34m(self, params, defaults)\u001b[0m\n\u001b[1;32m     45\u001b[0m         \u001b[0mparam_groups\u001b[0m \u001b[0;34m=\u001b[0m \u001b[0mlist\u001b[0m\u001b[0;34m(\u001b[0m\u001b[0mparams\u001b[0m\u001b[0;34m)\u001b[0m\u001b[0;34m\u001b[0m\u001b[0;34m\u001b[0m\u001b[0m\n\u001b[1;32m     46\u001b[0m         \u001b[0;32mif\u001b[0m \u001b[0mlen\u001b[0m\u001b[0;34m(\u001b[0m\u001b[0mparam_groups\u001b[0m\u001b[0;34m)\u001b[0m \u001b[0;34m==\u001b[0m \u001b[0;36m0\u001b[0m\u001b[0;34m:\u001b[0m\u001b[0;34m\u001b[0m\u001b[0;34m\u001b[0m\u001b[0m\n\u001b[0;32m---> 47\u001b[0;31m             \u001b[0;32mraise\u001b[0m \u001b[0mValueError\u001b[0m\u001b[0;34m(\u001b[0m\u001b[0;34m\"optimizer got an empty parameter list\"\u001b[0m\u001b[0;34m)\u001b[0m\u001b[0;34m\u001b[0m\u001b[0;34m\u001b[0m\u001b[0m\n\u001b[0m\u001b[1;32m     48\u001b[0m         \u001b[0;32mif\u001b[0m \u001b[0;32mnot\u001b[0m \u001b[0misinstance\u001b[0m\u001b[0;34m(\u001b[0m\u001b[0mparam_groups\u001b[0m\u001b[0;34m[\u001b[0m\u001b[0;36m0\u001b[0m\u001b[0;34m]\u001b[0m\u001b[0;34m,\u001b[0m \u001b[0mdict\u001b[0m\u001b[0;34m)\u001b[0m\u001b[0;34m:\u001b[0m\u001b[0;34m\u001b[0m\u001b[0;34m\u001b[0m\u001b[0m\n\u001b[1;32m     49\u001b[0m             \u001b[0mparam_groups\u001b[0m \u001b[0;34m=\u001b[0m \u001b[0;34m[\u001b[0m\u001b[0;34m{\u001b[0m\u001b[0;34m'params'\u001b[0m\u001b[0;34m:\u001b[0m \u001b[0mparam_groups\u001b[0m\u001b[0;34m}\u001b[0m\u001b[0;34m]\u001b[0m\u001b[0;34m\u001b[0m\u001b[0;34m\u001b[0m\u001b[0m\n",
            "\u001b[0;31mValueError\u001b[0m: optimizer got an empty parameter list"
          ]
        }
      ]
    },
    {
      "cell_type": "code",
      "metadata": {
        "id": "BJiljiuKq7e_"
      },
      "source": [
        ""
      ],
      "execution_count": null,
      "outputs": []
    }
  ]
}