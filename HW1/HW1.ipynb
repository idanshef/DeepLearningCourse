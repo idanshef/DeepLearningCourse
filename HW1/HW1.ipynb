{
  "nbformat": 4,
  "nbformat_minor": 0,
  "metadata": {
    "colab": {
      "name": "HW1.ipynb",
      "provenance": [],
      "collapsed_sections": []
    },
    "kernelspec": {
      "name": "python3",
      "display_name": "Python 3"
    },
    "accelerator": "GPU"
  },
  "cells": [
    {
      "cell_type": "code",
      "metadata": {
        "id": "kgRWSLY1cSpU",
        "outputId": "20faab80-b848-4385-d18a-7e364bba8814",
        "colab": {
          "base_uri": "https://localhost:8080/"
        }
      },
      "source": [
        "import torch\n",
        "from torch import nn\n",
        "from tqdm import tqdm\n",
        "from torchvision.datasets.mnist import FashionMNIST\n",
        "from torchvision import transforms\n",
        "import matplotlib.pyplot as plt\n",
        "\n",
        "print(\"Using Device: \", torch.cuda.get_device_name())"
      ],
      "execution_count": 58,
      "outputs": [
        {
          "output_type": "stream",
          "text": [
            "Using Device:  Tesla T4\n"
          ],
          "name": "stdout"
        }
      ]
    },
    {
      "cell_type": "code",
      "metadata": {
        "id": "qyJtrYpZdVl3"
      },
      "source": [
        "def create_datasets(data_root):\n",
        "    trainset = FashionMNIST(root = data_root, train = True, download = True, transform = transforms.ToTensor())\n",
        "    testset = FashionMNIST(root = data_root, train = False, download = True, transform = transforms.ToTensor())\n",
        "    return trainset, testset\n",
        "\n",
        "trainset, testset = create_datasets(\"./data\")\n",
        "batch_size = 128\n",
        "train_loader = torch.utils.data.DataLoader(trainset, batch_size=batch_size, shuffle=True, num_workers=4)\n",
        "test_loader = torch.utils.data.DataLoader(testset, batch_size=batch_size, num_workers=4)"
      ],
      "execution_count": 59,
      "outputs": []
    },
    {
      "cell_type": "code",
      "metadata": {
        "id": "3cBdJAx1eEB6"
      },
      "source": [
        "class ConvBlock(torch.nn.Module):\n",
        "    def __init__(self, in_channels, out_channels, kernel_size, stride, padding=0):\n",
        "        super().__init__()\n",
        "        self.conv_block = nn.Sequential(\n",
        "            nn.Conv2d(in_channels, out_channels, kernel_size=kernel_size, stride=stride, padding=padding),\n",
        "            nn.Tanh()\n",
        "        )\n",
        "\n",
        "    def forward(self, x):\n",
        "        return self.conv_block(x)\n",
        "\n",
        "\n",
        "class PoolingBlock(torch.nn.Module):\n",
        "    def __init__(self, kernel_size, stride):\n",
        "        super().__init__()\n",
        "        self.pooling_block = nn.AvgPool2d(kernel_size=kernel_size, stride=stride)\n",
        "\n",
        "    def forward(self, x):\n",
        "        return self.pooling_block(x)\n",
        "\n",
        "class LeNet5(torch.nn.Module):\n",
        "    def __init__(self, n_channels=1, batchnorm=False, dropout=False):\n",
        "        super().__init__()\n",
        "        self.n_channels = n_channels\n",
        "        self.batchnorm = batchnorm\n",
        "        self.do_dropout = dropout\n",
        "\n",
        "        self.conv1 = ConvBlock(in_channels=n_channels, out_channels=6, kernel_size=5, stride=1, padding=2)\n",
        "        self.pooling1 = PoolingBlock(kernel_size=2, stride=2)\n",
        "        self.conv2 = ConvBlock(in_channels=6, out_channels=16, kernel_size=5, stride=1)\n",
        "        self.pooling2 = PoolingBlock(kernel_size=2, stride=2)\n",
        "        self.conv3 = ConvBlock(in_channels=16, out_channels=120, kernel_size=5, stride=1)\n",
        "        self.activation = nn.Tanh()\n",
        "        self.fc1 = nn.Linear(in_features=120, out_features=84)\n",
        "        self.fc2 = nn.Linear(in_features=84, out_features=10)\n",
        "        # self.softmax = nn.Softmax()\n",
        "        if self.do_dropout:\n",
        "            self.dropout = nn.Dropout(p=0.75)\n",
        "        # self.batch_norm = nn.BatchNorm1d()\n",
        "        if self.batchnorm:\n",
        "            self.batch_norm1 = nn.BatchNorm2d(num_features=6)\n",
        "            self.batch_norm2 = nn.BatchNorm2d(num_features=16)\n",
        "\n",
        "    def forward(self, x):\n",
        "        x = self.conv1(x)\n",
        "        x = self.pooling1(x)\n",
        "        if self.batchnorm:\n",
        "            x = self.batch_norm1(x)\n",
        "        x = self.conv2(x)\n",
        "        x = self.pooling2(x)\n",
        "        if self.batchnorm:\n",
        "            x = self.batch_norm2(x)\n",
        "        x = self.conv3(x)\n",
        "        x = torch.flatten(x, start_dim=1)\n",
        "        x = self.fc1(x)\n",
        "        if self.do_dropout:\n",
        "            x = self.dropout(x)\n",
        "        x = self.activation(x)\n",
        "        x = self.fc2(x)\n",
        "        return x\n",
        "\n",
        "device = torch.device('cuda' if torch.cuda.is_available() else 'cpu')\n"
      ],
      "execution_count": 63,
      "outputs": []
    },
    {
      "cell_type": "code",
      "metadata": {
        "id": "KbglKnVUgv77"
      },
      "source": [
        "def compute_accuracy(est_labels, labels):\n",
        "    correct_pred = torch.sum(est_labels == labels)\n",
        "    total = labels.shape[0]\n",
        "    return correct_pred / total\n",
        "\n",
        "def train_epoch(net, dataloader, loss_func, optimizer):\n",
        "    net.train()\n",
        "    all_losses = []\n",
        "    all_acc = []\n",
        "    for batch in dataloader:\n",
        "        optimizer.zero_grad()\n",
        "\n",
        "        images, labels = batch\n",
        "        images, labels = images.to(device, dtype=torch.float), labels.to(device, dtype=torch.long)\n",
        "        \n",
        "        est_labels = net(images)\n",
        "        loss = loss_func(est_labels, labels)\n",
        "        all_losses.append(loss.item())\n",
        "        \n",
        "        if net.do_dropout:\n",
        "            net.eval()\n",
        "            all_acc.append(compute_accuracy(torch.argmax(net(images), dim=1), labels))\n",
        "            net.train()\n",
        "        else:\n",
        "          all_acc.append(compute_accuracy(torch.argmax(est_labels, dim=1), labels))\n",
        "\n",
        "        loss.backward()\n",
        "        optimizer.step()\n",
        "    return all_losses, all_acc\n",
        "\n",
        "def eval(net, dataloader, loss_func):\n",
        "    net.eval()\n",
        "    all_losses = []\n",
        "    all_acc = []\n",
        "    with torch.no_grad():\n",
        "        for batch in dataloader:\n",
        "            images, labels = batch\n",
        "            images, labels = images.to(device, dtype=torch.float), labels.to(device, dtype=torch.long)\n",
        "        \n",
        "            est_labels = net(images)\n",
        "            all_losses.append(loss_func(est_labels, labels).item())\n",
        "            all_acc.append(compute_accuracy(torch.argmax(est_labels, dim=1), labels))\n",
        "\n",
        "    return all_losses, all_acc\n",
        "\n",
        "def train(net, train_loader, val_loader, num_epochs, loss_func, optimizer):\n",
        "    all_train_losses = []\n",
        "    all_train_acc = []\n",
        "    all_val_losses = []\n",
        "    all_val_acc = []\n",
        "    for epoch in range(num_epochs):\n",
        "        print(\"Training Epoch %d / %d\" % (epoch, num_epochs))\n",
        "        train_losses, train_acc = train_epoch(net, train_loader, loss_func, optimizer)\n",
        "        all_train_losses.append(train_losses)\n",
        "        all_train_acc.append(train_acc)\n",
        "        val_losses, val_acc = eval(net, val_loader, loss_func)\n",
        "        print(\"Epoch %d train loss: %f, train_acc: %f, val loss: %f, val accuracy: %f\" %\n",
        "              (epoch, sum(train_losses) / len(train_losses), sum(train_acc) / len(train_acc),\n",
        "               sum(val_losses) / len(val_losses), sum(val_acc) / len(val_acc)))\n",
        "        all_val_losses.append(val_losses)\n",
        "        all_val_acc.append(val_acc)\n",
        "    print(\"Done training\")\n",
        "    return all_train_losses, all_train_acc, all_val_losses, all_val_acc\n",
        "        \n"
      ],
      "execution_count": 64,
      "outputs": []
    },
    {
      "cell_type": "code",
      "metadata": {
        "id": "YIVbkwf1e6_a",
        "outputId": "ff0314bf-ea55-4801-e744-dd37d073779e",
        "colab": {
          "base_uri": "https://localhost:8080/"
        }
      },
      "source": [
        "net = LeNet5().to(device)\n",
        "# net = LeNet5(dropout=True).to(device)\n",
        "# net = LeNet5(batchnorm=True).to(device)\n",
        "\n",
        "optimizer = torch.optim.Adam(net.parameters())\n",
        "# optimizer = torch.optim.Adam(net.parameters(), weight_decay=1e-2)\n",
        "\n",
        "loss_func = torch.nn.CrossEntropyLoss()\n",
        "num_epochs = 20\n",
        "all_train_losses, all_train_acc, all_val_losses, all_val_acc = train(net, train_loader, test_loader, num_epochs, loss_func, optimizer)"
      ],
      "execution_count": 69,
      "outputs": [
        {
          "output_type": "stream",
          "text": [
            "Training Epoch 0 / 20\n",
            "Epoch 0 train loss: 0.558140, train_acc: 0.815232, val loss: 0.454707, val accuracy: 0.843354\n",
            "Training Epoch 1 / 20\n",
            "Epoch 1 train loss: 0.419703, train_acc: 0.854000, val loss: 0.433769, val accuracy: 0.850574\n",
            "Training Epoch 2 / 20\n",
            "Epoch 2 train loss: 0.393909, train_acc: 0.863856, val loss: 0.414695, val accuracy: 0.854035\n",
            "Training Epoch 3 / 20\n",
            "Epoch 3 train loss: 0.383310, train_acc: 0.866638, val loss: 0.408521, val accuracy: 0.859078\n",
            "Training Epoch 4 / 20\n",
            "Epoch 4 train loss: 0.373402, train_acc: 0.871480, val loss: 0.433791, val accuracy: 0.849288\n",
            "Training Epoch 5 / 20\n",
            "Epoch 5 train loss: 0.370713, train_acc: 0.872957, val loss: 0.414483, val accuracy: 0.853244\n",
            "Training Epoch 6 / 20\n",
            "Epoch 6 train loss: 0.367226, train_acc: 0.873062, val loss: 0.397935, val accuracy: 0.860364\n",
            "Training Epoch 7 / 20\n",
            "Epoch 7 train loss: 0.362263, train_acc: 0.875372, val loss: 0.390027, val accuracy: 0.865210\n",
            "Training Epoch 8 / 20\n",
            "Epoch 8 train loss: 0.361810, train_acc: 0.875994, val loss: 0.393333, val accuracy: 0.863627\n",
            "Training Epoch 9 / 20\n",
            "Epoch 9 train loss: 0.358635, train_acc: 0.876260, val loss: 0.394354, val accuracy: 0.861155\n",
            "Training Epoch 10 / 20\n",
            "Epoch 10 train loss: 0.358933, train_acc: 0.875866, val loss: 0.382676, val accuracy: 0.869660\n",
            "Training Epoch 11 / 20\n",
            "Epoch 11 train loss: 0.358144, train_acc: 0.876194, val loss: 0.384278, val accuracy: 0.867089\n",
            "Training Epoch 12 / 20\n",
            "Epoch 12 train loss: 0.354356, train_acc: 0.878104, val loss: 0.387315, val accuracy: 0.865407\n",
            "Training Epoch 13 / 20\n",
            "Epoch 13 train loss: 0.357274, train_acc: 0.877193, val loss: 0.381891, val accuracy: 0.865309\n",
            "Training Epoch 14 / 20\n",
            "Epoch 14 train loss: 0.350641, train_acc: 0.879720, val loss: 0.379125, val accuracy: 0.868078\n",
            "Training Epoch 15 / 20\n",
            "Epoch 15 train loss: 0.349891, train_acc: 0.879092, val loss: 0.372873, val accuracy: 0.868374\n",
            "Training Epoch 16 / 20\n",
            "Epoch 16 train loss: 0.351050, train_acc: 0.880197, val loss: 0.404283, val accuracy: 0.856210\n",
            "Training Epoch 17 / 20\n",
            "Epoch 17 train loss: 0.350263, train_acc: 0.880258, val loss: 0.391663, val accuracy: 0.868968\n",
            "Training Epoch 18 / 20\n",
            "Epoch 18 train loss: 0.347942, train_acc: 0.880997, val loss: 0.369326, val accuracy: 0.869858\n",
            "Training Epoch 19 / 20\n",
            "Epoch 19 train loss: 0.347180, train_acc: 0.881141, val loss: 0.374528, val accuracy: 0.873418\n",
            "Done training\n"
          ],
          "name": "stdout"
        }
      ]
    },
    {
      "cell_type": "code",
      "metadata": {
        "id": "BJiljiuKq7e_",
        "outputId": "c5b66f00-9b90-4920-8de2-c23bad44661d",
        "colab": {
          "base_uri": "https://localhost:8080/",
          "height": 483
        }
      },
      "source": [
        "train_losses = [sum(x) / len(x) for x in all_train_losses]\n",
        "train_acc = [sum(x) / len(x) for x in all_train_acc]\n",
        "val_losses = [sum(x) / len(x) for x in all_val_losses]\n",
        "val_acc = [sum(x) / len(x) for x in all_val_acc]\n",
        "\n",
        "print(\"Max Accuracy train:\", max(train_acc).item())\n",
        "print(\"Max Accuracy val:\", max(val_acc).item())\n",
        "\n",
        "plt.figure(figsize=(15, 15))\n",
        "plt.subplot(2, 2, 1)\n",
        "plt.plot(train_losses)\n",
        "plt.plot(val_losses)\n",
        "plt.legend(['train', 'val'])\n",
        "plt.xlabel(\"Epoch\")\n",
        "plt.ylabel(\"Loss\")\n",
        "plt.title(\"Training and Validation Loss\")\n",
        "\n",
        "plt.subplot(2, 2, 2)\n",
        "plt.plot(train_acc)\n",
        "plt.plot(val_acc)\n",
        "plt.legend(['train', 'val'])\n",
        "plt.xlabel(\"Epoch\")\n",
        "plt.ylabel(\"Loss\")\n",
        "plt.title(\"Accuracy - BatchNorm Conv. layers\")\n",
        "plt.show()"
      ],
      "execution_count": 70,
      "outputs": [
        {
          "output_type": "stream",
          "text": [
            "Max Accuracy train: 0.881141185760498\n",
            "Max Accuracy val: 0.8734177350997925\n"
          ],
          "name": "stdout"
        },
        {
          "output_type": "display_data",
          "data": {
            "image/png": "[encoded data removed]",
            "text/plain": [
              "<Figure size 1080x1080 with 2 Axes>"
            ]
          },
          "metadata": {
            "tags": [],
            "needs_background": "light"
          }
        }
      ]
    },
    {
      "cell_type": "code",
      "metadata": {
        "id": "NIb-Fljg-HHa"
      },
      "source": [
        ""
      ],
      "execution_count": null,
      "outputs": []
    }
  ]
}